{
 "cells": [
  {
   "cell_type": "markdown",
   "metadata": {},
   "source": [
    "# NDA Database generation\n",
    "\n",
    "## Scraping the FDA website to populate a database with \n",
    "### <p> \n",
    "1. Drug name\n",
    "2. Drug maker (stock ticker) (in progress) \\n 3. Event date \\n 4. Event type \\n 5. Company Name </p>"
   ]
  },
  {
   "cell_type": "code",
   "execution_count": 1,
   "metadata": {
    "collapsed": false
   },
   "outputs": [],
   "source": [
    "from bs4 import BeautifulSoup\n",
    "import urllib.request\n",
    "import numpy as np\n",
    "import re\n",
    "import pandas as pd\n",
    "from IPython import embed\n",
    "import random"
   ]
  },
  {
   "cell_type": "code",
   "execution_count": 8,
   "metadata": {
    "collapsed": false
   },
   "outputs": [],
   "source": [
    "def sourceGetter(urlSource=\n",
    "                 'http://www.fda.gov/BiologicsBloodVaccines/DevelopmentApprovalProcess/BiologicalApprovalsbyYear/default.htm'):\n",
    "\n",
    "    urlList = []\n",
    "    with urllib.request.urlopen(urlSource) as response:\n",
    "       html = response.read()\n",
    "    soup = BeautifulSoup(html,'lxml')\n",
    "    \n",
    "    for link in soup.find(id='section-menu').find_all('a'):\n",
    "        if link.get('class') == ['list-group-item']:\n",
    "            urlList.append('http://www.fda.gov' + \n",
    "                           link.get('href'))\n",
    "            \n",
    "    return(urlList)\n",
    "\n",
    "def blaGetter(blaSource = \n",
    "              'http://www.fda.gov/BiologicsBloodVaccines/DevelopmentApprovalProcess/BiologicalApprovalsbyYear/ucm482392.htm',\n",
    "             n = 3):\n",
    "    blaList = []\n",
    "    with urllib.request.urlopen(blaSource) as response:\n",
    "        html = response.read()\n",
    "    soup = BeautifulSoup(html,'lxml')\n",
    "    soup = soup.find('article')\n",
    "    soup.find('header').extract()\n",
    "    soup = soup.find('ul')\n",
    "    for link in soup.find_all('li'): \n",
    "        L = link.find('a').get('href')\n",
    "        yield('http://www.fda.gov' + L)   \n",
    "    "
   ]
  },
  {
   "cell_type": "code",
   "execution_count": 10,
   "metadata": {
    "collapsed": false
   },
   "outputs": [],
   "source": [
    "uL = sourceGetter()\n",
    "bL_BLAapproval = []\n",
    "bL_BLAsupplement = []\n",
    "bL_Bnda = []\n",
    "for u in uL:\n",
    "    gen = blaGetter(u)\n",
    "    for i in range(0,3): \n",
    "        try: \n",
    "            B = next(gen)\n",
    "            if i == 0:bL_BLAapproval.append(B)\n",
    "            elif i == 1:bL_BLAsupplement.append(B)\n",
    "            elif i == 2:bL_Bnda.append(B)\n",
    "        except StopIteration: pass\n",
    "        "
   ]
  },
  {
   "cell_type": "code",
   "execution_count": 11,
   "metadata": {
    "collapsed": false
   },
   "outputs": [
    {
     "name": "stdout",
     "output_type": "stream",
     "text": [
      "20\n",
      "19\n",
      "6\n"
     ]
    }
   ],
   "source": [
    "print(len(bL_BLAapproval))\n",
    "print(len(bL_BLAsupplement))\n",
    "print(len(bL_Bnda))\n"
   ]
  },
  {
   "cell_type": "code",
   "execution_count": 13,
   "metadata": {
    "collapsed": false
   },
   "outputs": [],
   "source": [
    "def dataFinder(entry,n,eventType):\n",
    "    tds = entry.find_all('td')\n",
    "    try: drugName = entry.a.string.extract()\n",
    "    except: drugName = 'error'\n",
    "    try: STN = tds[2].string\n",
    "    except: STN = 'error'\n",
    "    try: companyName = tds[3].contents[0].string\n",
    "    except: companyName = 'error'\n",
    "    try: eventDate = tds[4].string\n",
    "    except:eventDate = 'error' \n",
    "    noteworthFDA = ['NO']\n",
    "    d = {'drugName':drugName,\n",
    "         'STN':STN,\n",
    "         'companyName':companyName,\n",
    "         'eventDate':eventDate,\n",
    "         'eventType':eventType\n",
    "        }\n",
    "    \n",
    "    return(pd.DataFrame(data=d))\n",
    "    \n",
    "\n",
    "def blaEntry(url,eventType):\n",
    "    df = pd.DataFrame(columns = ('drugName','STN','companyName','eventDate','eventType'))\n",
    "    with urllib.request.urlopen(url) as response:\n",
    "        html = response.read()\n",
    "    soup = BeautifulSoup(html,'lxml')\n",
    "    try: entries = soup.tbody.find_all('tr')\n",
    "    except AttributeError: entries = soup.table.find_all('tr')\n",
    "    for entry in entries:\n",
    "        n = 0\n",
    "        dfT = dataFinder(entry,n,eventType)\n",
    "        dfT\n",
    "        df = pd.concat([df,dfT])\n",
    "    return(df)  \n"
   ]
  },
  {
   "cell_type": "code",
   "execution_count": 19,
   "metadata": {
    "collapsed": false
   },
   "outputs": [],
   "source": [
    "df = pd.DataFrame(columns = ('drugName','STN','companyName','eventDate','eventType'))\n",
    "for b in bL_BLAapproval:\n",
    "    dfT = blaEntry(b,['BLAapproval'])\n",
    "    df = pd.concat([df,dfT])\n",
    "\n",
    "for b in bL_BLAsupplement:\n",
    "    dfT = blaEntry(b,['BLAsupplement'])\n",
    "    df = pd.concat([df,dfT])\n",
    "\n",
    "for b in bL_Bnda:\n",
    "    dfT = blaEntry(b,['Bnda'])\n",
    "    df = pd.concat([df,dfT])\n",
    "\n"
   ]
  },
  {
   "cell_type": "code",
   "execution_count": null,
   "metadata": {
    "collapsed": true
   },
   "outputs": [],
   "source": []
  },
  {
   "cell_type": "code",
   "execution_count": 20,
   "metadata": {
    "collapsed": false
   },
   "outputs": [],
   "source": [
    "df\n",
    "\n",
    "df.to_csv(path_or_buf = '/Users/Jonathan/Desktop/df.csv')"
   ]
  },
  {
   "cell_type": "code",
   "execution_count": null,
   "metadata": {
    "collapsed": true
   },
   "outputs": [],
   "source": []
  }
 ],
 "metadata": {
  "kernelspec": {
   "display_name": "Python 3",
   "language": "python",
   "name": "python3"
  },
  "language_info": {
   "codemirror_mode": {
    "name": "ipython",
    "version": 3
   },
   "file_extension": ".py",
   "mimetype": "text/x-python",
   "name": "python",
   "nbconvert_exporter": "python",
   "pygments_lexer": "ipython3",
   "version": "3.5.1"
  }
 },
 "nbformat": 4,
 "nbformat_minor": 0
}
